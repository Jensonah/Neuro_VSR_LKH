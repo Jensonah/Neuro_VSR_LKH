{
  "nbformat": 4,
  "nbformat_minor": 0,
  "metadata": {
    "colab": {
      "provenance": []
    },
    "kernelspec": {
      "name": "python3",
      "display_name": "Python 3"
    },
    "language_info": {
      "name": "python"
    },
    "gpuClass": "standard"
  },
  "cells": [
    {
      "cell_type": "code",
      "execution_count": null,
      "metadata": {
        "colab": {
          "base_uri": "https://localhost:8080/"
        },
        "id": "ejCjpdtj6MPf",
        "outputId": "591be47f-460f-4558-aea4-917464cc5264"
      },
      "outputs": [
        {
          "output_type": "stream",
          "name": "stdout",
          "text": [
            "Looking in indexes: https://pypi.org/simple, https://us-python.pkg.dev/colab-wheels/public/simple/\n",
            "Requirement already satisfied: pyyaml in /usr/local/lib/python3.8/dist-packages (6.0)\n",
            "Requirement already satisfied: h5py in /usr/local/lib/python3.8/dist-packages (3.1.0)\n",
            "Requirement already satisfied: numpy>=1.17.5 in /usr/local/lib/python3.8/dist-packages (from h5py) (1.21.6)\n"
          ]
        }
      ],
      "source": [
        "import numpy as np\n",
        "from matplotlib import pyplot as plt\n",
        "import pandas as pd\n",
        "import random\n",
        "\n",
        "from sklearn.model_selection import train_test_split\n",
        "from tensorflow.keras.layers import Input, Dense, Normalization\n",
        "from tensorflow.keras.models import Model\n",
        "from tensorflow.keras import utils, callbacks\n",
        "from tensorflow.keras import regularizers\n",
        "\n",
        "import sys\n",
        "!pip install pyyaml h5py  # Required to save models in HDF5 format\n",
        "\n",
        "# Set random seed for reproducibility\n",
        "rs = 42\n",
        "np.random.seed(rs)\n",
        "\n",
        "\n",
        "# todo check if everything equals 5"
      ]
    },
    {
      "cell_type": "code",
      "source": [
        "from google.colab import drive\n",
        "drive.mount('/content/drive')"
      ],
      "metadata": {
        "colab": {
          "base_uri": "https://localhost:8080/"
        },
        "id": "5dDjfoHS8K0x",
        "outputId": "cbd2b923-2031-41c4-effd-aaad36a4e876"
      },
      "execution_count": null,
      "outputs": [
        {
          "output_type": "stream",
          "name": "stdout",
          "text": [
            "Mounted at /content/drive\n"
          ]
        }
      ]
    },
    {
      "cell_type": "code",
      "source": [
        "files = [\n",
        "  \"a280_data.csv\",\n",
        "  \"ali535_data.csv\",\n",
        "  \"att48_data.csv\",\n",
        "  # \"att532_data.csv\", used in testing\n",
        "  \"bayg29_data.csv\",\n",
        "  #\"berlin52_data.csv\", not found\n",
        "  \"bier127_data.csv\",\n",
        "  \"brazil58_data.csv\",\n",
        "  \"brg180_data.csv\",\n",
        "  # \"burma14_data.csv\", not found\n",
        "  \"ch130_data.csv\",\n",
        "  \"ch150_data.csv\",\n",
        "  \"d198_data.csv\",\n",
        "  # \"d493_data.csv\", used in testing\n",
        "  \"d657_data.csv\",\n",
        "  \"d1291_data.csv\",\n",
        "  \"d1655_data.csv\",\n",
        "  # \"d2103_data.csv\", used in testing\n",
        "  \"dantzig42_data.csv\",\n",
        "  \"dsj1000_data.csv\",\n",
        "  \"eil51_data.csv\",\n",
        "  \"eil76_data.csv\",\n",
        "  \"eil101_data.csv\",\n",
        "  \"fl417_data.csv\",\n",
        "  #\"fnl4461_data.csv\", used in testing\n",
        "  \"fri26_data.csv\",\n",
        "  \"gil262_data.csv\",\n",
        "  #\"gr17_data.csv\", not found\n",
        "  #\"gr21_data.csv\", not found\n",
        "  \"gr24_data.csv\",\n",
        "  \"gr48_data.csv\",\n",
        "  \"gr96_data.csv\",\n",
        "  \"gr120_data.csv\",\n",
        "  \"gr137_data.csv\",\n",
        "  \"gr202_data.csv\",\n",
        "  # \"gr229_data.csv\", used in testing\n",
        "  # \"gr431_data.csv\", used in testing\n",
        "  # \"gr666_data.csv\", used in testing\n",
        "  # \"hk48_data.csv\", not found\n",
        "  \"kroA100_data.csv\",\n",
        "  \"kroA150_data.csv\",\n",
        "  \"kroA200_data.csv\",\n",
        "  \"kroB100_data.csv\",\n",
        "  #\"kroB150_data.csv\", used in testing\n",
        "  \"kroB200_data.csv\",\n",
        "  \"kroC100_data.csv\",\n",
        "  \"kroD100_data.csv\",\n",
        "  \"kroE100_data.csv\",\n",
        "  \"lin105_data.csv\",\n",
        "  \"lin318_data.csv\",\n",
        "  \"linhp318_data.csv\",\n",
        "  # \"nrw1379_data.csv\", used in testing\n",
        "  \"p654_data.csv\",\n",
        "  \"pa561_data.csv\",\n",
        "  \"pcb442_data.csv\",\n",
        "  # \"pcb1173_data.csv\" used in testing\n",
        "  # \"pcb3038_data.csv\", used in testing\n",
        "  \"pr76_data.csv\",\n",
        "  \"pr107_data.csv\",\n",
        "  \"pr124_data.csv\",\n",
        "  \"pr136_data.csv\",\n",
        "  \"pr144_data.csv\",\n",
        "  \"pr152_data.csv\",\n",
        "  \"pr226_data.csv\",\n",
        "  \"pr264_data.csv\",\n",
        "  # \"pr299_data.csv\", used in testing\n",
        "  \"pr439_data.csv\",\n",
        "  # \"pr1002_data.csv\" used in testing\n",
        "  \"rat99_data.csv\",\n",
        "  # \"rat195_data.csv\", used in testing\n",
        "  # \"rat575_data.csv\", used in testing\n",
        "  \"rat783_data.csv\",\n",
        "  \"rd100_data.csv\",\n",
        "  \"rd400_data.csv\",\n",
        "  # \"rl1304_data.csv\", used in testing\n",
        "  \"rl1323_data.csv\",\n",
        "  # \"rl1889_data.csv\", used in testing\n",
        "  # \"rl5915_data.csv\", used in testing\n",
        "  # \"rl5934_data.csv\", used in testing\n",
        "  # \"si175_data.csv\", used in testing\n",
        "  # \"si535_data.csv\", used in testing\n",
        "  \"st70_data.csv\",\n",
        "  \"ts225_data.csv\",\n",
        "  \"tsp225_data.csv\",\n",
        "  \"u159_data.csv\",\n",
        "  \"u574_data.csv\",\n",
        "  \"u724_data.csv\",\n",
        "  # \"u1817_data.csv\", used in testing\n",
        "  # \"u1060_data.csv\", used in testing\n",
        "  # \"ulysses16_data.csv\", not found\n",
        "  \"ulysses22_data.csv\",\n",
        "  # \"vm1084_data.csv\", used in testing\n",
        "  # \"u2152_data.csv\", used in testing\n",
        "  \"u2319_data.csv\",\n",
        "  # \"vm1748_data.csv\" used in testing\n",
        "]"
      ],
      "metadata": {
        "id": "MtJSMvdvWrtS"
      },
      "execution_count": null,
      "outputs": []
    },
    {
      "cell_type": "code",
      "source": [
        "def preproces(data):\n",
        "\n",
        "  am = np.sum(np.isnan([data['Alpha']]))\n",
        "  print(am)\n",
        "\n",
        "  xs = -1*np.ones((am, 16), dtype=np.float64)\n",
        "  ys = -1*np.ones((am, 8), dtype=np.float64) # could be a problem, maybe zeros instead?\n",
        "\n",
        "  i = 0\n",
        "  k = 0\n",
        "  size = len(data)\n",
        "\n",
        "  while i < size:\n",
        "\n",
        "      start = i\n",
        "      # indexing second element of i-th row of data(frame)\n",
        "      # any because isnan returns list or something\n",
        "      while not np.isnan(data.iloc[[i]]['Alpha']).any():\n",
        "        i += 1\n",
        "\n",
        "      # Use idxs to randomize the order in x\n",
        "      # Note that the order is still [cost, alpha, cost, alpha, ...]\n",
        "\n",
        "\n",
        "      idxs = list(range(8))\n",
        "      random.shuffle(idxs)\n",
        "\n",
        "      for j in range(min(8,i-start)):\n",
        "        idx = idxs[j]\n",
        "        xs[k,idx*2]   = data.iloc[start + j]['Cost']\n",
        "        xs[k,idx*2+1] = data.iloc[start + j]['Alpha']\n",
        "        ys[k,idx]     = data.iloc[start + j]['Q-Value']\n",
        "\n",
        "      max_cost  = np.max(xs[k,[0,2,4,6,8,10,12,14]])\n",
        "      max_alpha = np.max(xs[k,[1,3,5,7,9,11,13,15]])\n",
        "\n",
        "      # check if it learns when spots are fillers with data below\n",
        "\n",
        "      # If our input/output pair is not made up out of 5 candidates,\n",
        "      # the remainig posts will have a high costs, high alpha and low q-value\n",
        "      for j in [0,2,4,6,8,10,12,14]:\n",
        "        if xs[k,j] == -1:\n",
        "          xs[k,j] = 2*max_cost\n",
        "      \n",
        "      for j in [1,3,5,7,9,11,13,15]:\n",
        "        if xs[k,j] == -1:\n",
        "          xs[k,j] = 2*max_alpha\n",
        "\n",
        "      for j in range(8):\n",
        "        if ys[k,j] == -1:\n",
        "          ys[k,j] = 0\n",
        "\n",
        "      i += 1\n",
        "      k += 1\n",
        "\n",
        "  assert k == am\n",
        "  return xs, ys"
      ],
      "metadata": {
        "id": "XIc9xbhIE_pX"
      },
      "execution_count": null,
      "outputs": []
    },
    {
      "cell_type": "code",
      "source": [
        "path = \"/content/drive/MyDrive/Unibo/comb_opt_project/q_data/\"\n",
        "df = pd.read_csv(path + files[0])\n",
        "x, y = preproces(df)\n",
        "\n",
        "for i in range(1, len(files)):\n",
        "  df = pd.read_csv(path + files[i])\n",
        "  x_new, y_new = preproces(df)\n",
        "  x = np.concatenate((x, x_new))\n",
        "  y = np.concatenate((y, y_new))\n",
        "\n",
        "print(x.shape)\n",
        "\n",
        "x_copy = x.copy()\n",
        "y_copy = y.copy()"
      ],
      "metadata": {
        "colab": {
          "base_uri": "https://localhost:8080/"
        },
        "id": "JHM6cGxMX0lx",
        "outputId": "e2373557-8a26-4dcd-fb5e-ab15cb0a9051"
      },
      "execution_count": null,
      "outputs": [
        {
          "output_type": "stream",
          "name": "stdout",
          "text": [
            "2800\n",
            "5350\n",
            "480\n",
            "290\n",
            "1270\n",
            "580\n",
            "1800\n",
            "1300\n",
            "1500\n",
            "1980\n",
            "6570\n",
            "12910\n",
            "16550\n",
            "420\n",
            "10000\n",
            "510\n",
            "760\n",
            "1010\n",
            "4170\n",
            "260\n",
            "2620\n",
            "240\n",
            "480\n",
            "960\n",
            "1200\n",
            "1370\n",
            "2020\n",
            "1000\n",
            "1500\n",
            "2000\n",
            "1000\n",
            "2000\n",
            "1000\n",
            "1000\n",
            "1000\n",
            "1050\n",
            "3180\n",
            "3180\n",
            "6540\n",
            "5610\n",
            "4420\n",
            "760\n",
            "1070\n",
            "1240\n",
            "1360\n",
            "1440\n",
            "1520\n",
            "2260\n",
            "2640\n",
            "4390\n",
            "990\n",
            "7830\n",
            "1000\n",
            "4000\n",
            "13230\n",
            "700\n",
            "2250\n",
            "2250\n",
            "1590\n",
            "5740\n",
            "7240\n",
            "220\n",
            "23190\n",
            "(200790, 16)\n"
          ]
        }
      ]
    },
    {
      "cell_type": "code",
      "source": [
        "x = x_copy.copy()\n",
        "y = y_copy.copy()"
      ],
      "metadata": {
        "id": "DtkGfnVRyXnL"
      },
      "execution_count": null,
      "outputs": []
    },
    {
      "cell_type": "code",
      "source": [
        "# sometimes there are massive q-values in the input, these then get stored as inf values\n",
        "# Here we we set them to almost float max\n",
        "y = np.where(np.isinf(y) , 1.6976931348623157e+308, y)"
      ],
      "metadata": {
        "id": "_oiAwne_u3qi"
      },
      "execution_count": null,
      "outputs": []
    },
    {
      "cell_type": "code",
      "source": [
        "# and then divide the array by the biggest value.\n",
        "# Results in a range of [0,1]\n",
        "\n",
        "mins = x[:,[0,2,4,6,8,10,12,14]].min(axis=1)\n",
        "length = mins.shape[0]\n",
        "maxs = (x[:,[0,2,4,6,8,10,12,14]] -  mins.reshape(length,1)).max(axis=1)\n",
        "x[:,[0,2,4,6,8,10,12,14]] = (x[:,[0,2,4,6,8,10,12,14]] - mins.reshape((length,1))) / maxs.reshape((length,1))\n",
        "\n",
        "mins = x[:,[1,3,5,7,9,11,13,15]].min(axis=1)\n",
        "maxs = (x[:,[1,3,5,7,9,11,13,15]] -  mins.reshape(length,1)).max(axis=1)\n",
        "x[:,[1,3,5,7,9,11,13,15]] = (x[:,[1,3,5,7,9,11,13,15]] - mins.reshape((length,1))) / maxs.reshape((length,1))\n",
        "\n",
        "# For the Q-values we do the same as for the cost values, but the q-value can also be negative\n",
        "# So we make sure every value is >= 0 by adding the minimum value to all\n",
        "# Then we repeat the above process\n",
        "\n",
        "mins = y[:,:].min(axis=1)\n",
        "y -= mins.reshape(length,1)\n",
        "mins = y[:,:].min(axis=1)\n",
        "maxs = (y[:,:] -  mins.reshape(length,1)).max(axis=1)\n",
        "\n",
        "y[:,:] = (y[:,:] - mins.reshape((length,1))) / maxs.reshape((length,1))\n",
        "\n",
        "\n",
        "# If all entries in x[even] are nan, we have divided by zero because all costs were equal (to zero)\n",
        "for i in range(length):\n",
        "  if np.isnan(x[i,[0,2,4,6,8,10,12,14]]).all():\n",
        "    x[i,[0,2,4,6,8,10,12,14]] = 0\n",
        "\n",
        "# If all entries in x[odd] are nan, we have divided by zero because all alphas were equal (to zero)\n",
        "for i in range(length):\n",
        "  if np.isnan(x[i,[1,3,5,7,9,11,13,15]]).all():\n",
        "    x[i,[1,3,5,7,9,11,13,15]] = 0\n",
        "\n",
        "# If all entries in y are nan, we have divided by zero because all values were equal (to infinity)\n",
        "for i in range(length):\n",
        "  if np.isnan(y[i,:]).all():\n",
        "    y[i,:] = 1"
      ],
      "metadata": {
        "id": "gSTAHKu3nJHf",
        "colab": {
          "base_uri": "https://localhost:8080/"
        },
        "outputId": "9ac81d80-709a-4f67-caf2-d6bc0e05b78c"
      },
      "execution_count": null,
      "outputs": [
        {
          "output_type": "stream",
          "name": "stderr",
          "text": [
            "<ipython-input-8-c81dc24fa336>:11: RuntimeWarning: invalid value encountered in true_divide\n",
            "  x[:,[1,3,5,7,9,11,13,15]] = (x[:,[1,3,5,7,9,11,13,15]] - mins.reshape((length,1))) / maxs.reshape((length,1))\n",
            "<ipython-input-8-c81dc24fa336>:22: RuntimeWarning: invalid value encountered in true_divide\n",
            "  y[:,:] = (y[:,:] - mins.reshape((length,1))) / maxs.reshape((length,1))\n"
          ]
        }
      ]
    },
    {
      "cell_type": "code",
      "source": [
        "for i in range(x.shape[0]):\n",
        "  for j in range(16):\n",
        "    if np.isnan(x[i,j]) or np.isinf(x[i,j]):\n",
        "      print(x[i,:])\n",
        "      print(y[i,:])\n",
        "      print(max(y[i,:]))\n",
        "      print(i)\n",
        "      assert False\n",
        "  for j in range(8):\n",
        "    if np.isnan(y[i,j]) or np.isinf(y[i,j]):\n",
        "      print(x[i,:])\n",
        "      print(y[i,:])\n",
        "      print(max(y[i,:]))\n",
        "      print(i)\n",
        "      assert False"
      ],
      "metadata": {
        "id": "Or-ncTZC_4kz"
      },
      "execution_count": null,
      "outputs": []
    },
    {
      "cell_type": "code",
      "source": [
        "x_train, x_test, y_train, y_test = train_test_split(x, y, train_size=0.8, shuffle=True, random_state=rs)"
      ],
      "metadata": {
        "id": "xq2MMvCd8z2N"
      },
      "execution_count": null,
      "outputs": []
    },
    {
      "cell_type": "code",
      "source": [
        "# xin = Input(shape=(10,))\n",
        "# x = Dense(50, activation='relu')(xin)\n",
        "# x = Dense(50, activation='relu')(x)\n",
        "# x = Dense(50, activation='relu')(x)\n",
        "# x = Dense(50, activation='relu')(x)\n",
        "# out = Dense(5, activation='sigmoid')(x)\n",
        "# 0.148 on test 50 epochs, 70 files\n",
        "\n",
        "# xin = Input(shape=(10,))\n",
        "# x = Dense(20, activation='relu')(xin)\n",
        "# x = Dense(20, activation='relu')(x)\n",
        "# x = Dense(20, activation='relu')(x)\n",
        "# x = Dense(20, activation='relu')(x)\n",
        "# x = Dense(20, activation='relu')(x)\n",
        "# x = Dense(20, activation='relu')(x)\n",
        "# x = Dense(20, activation='relu')(x)\n",
        "# x = Dense(20, activation='relu')(x)\n",
        "# x = Dense(20, activation='relu')(x)\n",
        "# x = Dense(20, activation='relu')(x)\n",
        "# out = Dense(5, activation='sigmoid')(x)\n",
        "# 0.1481 train 30 epochs, 70 files\n",
        "\n",
        "xin = Input(shape=(16,))\n",
        "x = Dense(100, activation='relu', kernel_regularizer=regularizers.L2(0.000001))(xin)\n",
        "x = Dense(200, activation='relu', kernel_regularizer=regularizers.L2(0.000001))(x)\n",
        "x = Dense(300, activation='relu', kernel_regularizer=regularizers.L2(0.000001))(x)\n",
        "x = Dense(400, activation='relu', kernel_regularizer=regularizers.L2(0.000001))(x)\n",
        "x = Dense(600, activation='relu', kernel_regularizer=regularizers.L2(0.000001))(x)\n",
        "x = Dense(400, activation='relu', kernel_regularizer=regularizers.L2(0.000001))(x)\n",
        "x = Dense(300, activation='relu', kernel_regularizer=regularizers.L2(0.000001))(x)\n",
        "x = Dense(200, activation='relu', kernel_regularizer=regularizers.L2(0.000001))(x)\n",
        "x = Dense(100, activation='relu', kernel_regularizer=regularizers.L2(0.000001))(x)\n",
        "out = Dense(8, activation='sigmoid')(x)\n",
        "# with high alpha and cost, low q: train 0.1, test 0.2, 5 files, 100 epochs\n",
        "# with low alpha, cos and q: 0.0778 train , 0.21 test , 5 files, 100 epochs\n",
        "# bigger model? :) nope\n",
        "\n",
        "model = Model(inputs=xin,outputs=out)"
      ],
      "metadata": {
        "id": "YwXUBlDA-86z"
      },
      "execution_count": null,
      "outputs": []
    },
    {
      "cell_type": "code",
      "source": [
        "model.summary()\n",
        "model.compile(optimizer='adam',loss='mse',metrics=['mse'])\n",
        "\n",
        "checkpoint_filepath = '/content/drive/MyDrive/Unibo/comb_opt_project/Checkpoint/'\n",
        "model_checkpoint_callback = callbacks.ModelCheckpoint(\n",
        "    filepath=checkpoint_filepath,\n",
        "    save_weights_only=True,\n",
        "    monitor='mse',\n",
        "    save_best_only=True)"
      ],
      "metadata": {
        "colab": {
          "base_uri": "https://localhost:8080/"
        },
        "id": "jjj-PM1R9rJl",
        "outputId": "7175bcc8-a0b6-407e-851a-6ff5e83a72cf"
      },
      "execution_count": null,
      "outputs": [
        {
          "output_type": "stream",
          "name": "stdout",
          "text": [
            "Model: \"model\"\n",
            "_________________________________________________________________\n",
            " Layer (type)                Output Shape              Param #   \n",
            "=================================================================\n",
            " input_1 (InputLayer)        [(None, 16)]              0         \n",
            "                                                                 \n",
            " dense (Dense)               (None, 100)               1700      \n",
            "                                                                 \n",
            " dense_1 (Dense)             (None, 200)               20200     \n",
            "                                                                 \n",
            " dense_2 (Dense)             (None, 300)               60300     \n",
            "                                                                 \n",
            " dense_3 (Dense)             (None, 400)               120400    \n",
            "                                                                 \n",
            " dense_4 (Dense)             (None, 600)               240600    \n",
            "                                                                 \n",
            " dense_5 (Dense)             (None, 400)               240400    \n",
            "                                                                 \n",
            " dense_6 (Dense)             (None, 300)               120300    \n",
            "                                                                 \n",
            " dense_7 (Dense)             (None, 200)               60200     \n",
            "                                                                 \n",
            " dense_8 (Dense)             (None, 100)               20100     \n",
            "                                                                 \n",
            " dense_9 (Dense)             (None, 8)                 808       \n",
            "                                                                 \n",
            "=================================================================\n",
            "Total params: 885,008\n",
            "Trainable params: 885,008\n",
            "Non-trainable params: 0\n",
            "_________________________________________________________________\n"
          ]
        }
      ]
    },
    {
      "cell_type": "code",
      "source": [
        "history = model.fit(x_train, y_train, epochs=100, validation_split=0.2, callbacks=[model_checkpoint_callback])"
      ],
      "metadata": {
        "colab": {
          "base_uri": "https://localhost:8080/"
        },
        "id": "VoV5bYn8-8dA",
        "outputId": "c6f1d7e4-8848-4fb7-b0f6-e01013cdd9d3"
      },
      "execution_count": null,
      "outputs": [
        {
          "output_type": "stream",
          "name": "stdout",
          "text": [
            "Epoch 1/100\n",
            "4016/4016 [==============================] - 32s 6ms/step - loss: 0.1929 - mse: 0.1919 - val_loss: 0.1897 - val_mse: 0.1890\n",
            "Epoch 2/100\n",
            "4016/4016 [==============================] - 24s 6ms/step - loss: 0.1888 - mse: 0.1882 - val_loss: 0.1879 - val_mse: 0.1874\n",
            "Epoch 3/100\n",
            "4016/4016 [==============================] - 24s 6ms/step - loss: 0.1865 - mse: 0.1860 - val_loss: 0.1856 - val_mse: 0.1850\n",
            "Epoch 4/100\n",
            "4016/4016 [==============================] - 23s 6ms/step - loss: 0.1859 - mse: 0.1853 - val_loss: 0.1861 - val_mse: 0.1856\n",
            "Epoch 5/100\n",
            "4016/4016 [==============================] - 25s 6ms/step - loss: 0.1855 - mse: 0.1850 - val_loss: 0.1853 - val_mse: 0.1848\n",
            "Epoch 6/100\n",
            "4016/4016 [==============================] - 24s 6ms/step - loss: 0.1853 - mse: 0.1848 - val_loss: 0.1848 - val_mse: 0.1843\n",
            "Epoch 7/100\n",
            "4016/4016 [==============================] - 24s 6ms/step - loss: 0.1851 - mse: 0.1846 - val_loss: 0.1846 - val_mse: 0.1841\n",
            "Epoch 8/100\n",
            "4016/4016 [==============================] - 24s 6ms/step - loss: 0.1850 - mse: 0.1845 - val_loss: 0.1845 - val_mse: 0.1840\n",
            "Epoch 9/100\n",
            "4016/4016 [==============================] - 24s 6ms/step - loss: 0.1848 - mse: 0.1843 - val_loss: 0.1844 - val_mse: 0.1840\n",
            "Epoch 10/100\n",
            "4016/4016 [==============================] - 25s 6ms/step - loss: 0.1847 - mse: 0.1842 - val_loss: 0.1842 - val_mse: 0.1837\n",
            "Epoch 11/100\n",
            "4016/4016 [==============================] - 27s 7ms/step - loss: 0.1846 - mse: 0.1842 - val_loss: 0.1842 - val_mse: 0.1837\n",
            "Epoch 12/100\n",
            "4016/4016 [==============================] - 24s 6ms/step - loss: 0.1845 - mse: 0.1841 - val_loss: 0.1838 - val_mse: 0.1833\n",
            "Epoch 13/100\n",
            "4016/4016 [==============================] - 23s 6ms/step - loss: 0.1844 - mse: 0.1839 - val_loss: 0.1840 - val_mse: 0.1835\n",
            "Epoch 14/100\n",
            "4016/4016 [==============================] - 25s 6ms/step - loss: 0.1843 - mse: 0.1838 - val_loss: 0.1838 - val_mse: 0.1834\n",
            "Epoch 15/100\n",
            "4016/4016 [==============================] - 26s 6ms/step - loss: 0.1841 - mse: 0.1837 - val_loss: 0.1841 - val_mse: 0.1836\n",
            "Epoch 16/100\n",
            "4016/4016 [==============================] - 26s 6ms/step - loss: 0.1841 - mse: 0.1836 - val_loss: 0.1836 - val_mse: 0.1832\n",
            "Epoch 17/100\n",
            "4016/4016 [==============================] - 26s 7ms/step - loss: 0.1839 - mse: 0.1835 - val_loss: 0.1833 - val_mse: 0.1828\n",
            "Epoch 18/100\n",
            "4016/4016 [==============================] - 23s 6ms/step - loss: 0.1838 - mse: 0.1833 - val_loss: 0.1834 - val_mse: 0.1829\n",
            "Epoch 19/100\n",
            "4016/4016 [==============================] - 24s 6ms/step - loss: 0.1836 - mse: 0.1832 - val_loss: 0.1830 - val_mse: 0.1825\n",
            "Epoch 20/100\n",
            "4016/4016 [==============================] - 25s 6ms/step - loss: 0.1835 - mse: 0.1831 - val_loss: 0.1835 - val_mse: 0.1830\n",
            "Epoch 21/100\n",
            "4016/4016 [==============================] - 25s 6ms/step - loss: 0.1834 - mse: 0.1829 - val_loss: 0.1829 - val_mse: 0.1825\n",
            "Epoch 22/100\n",
            "4016/4016 [==============================] - 27s 7ms/step - loss: 0.1833 - mse: 0.1828 - val_loss: 0.1832 - val_mse: 0.1827\n",
            "Epoch 23/100\n",
            "4016/4016 [==============================] - 27s 7ms/step - loss: 0.1832 - mse: 0.1828 - val_loss: 0.1834 - val_mse: 0.1829\n",
            "Epoch 24/100\n",
            "4016/4016 [==============================] - 25s 6ms/step - loss: 0.1832 - mse: 0.1827 - val_loss: 0.1834 - val_mse: 0.1829\n",
            "Epoch 25/100\n",
            "4016/4016 [==============================] - 23s 6ms/step - loss: 0.1832 - mse: 0.1827 - val_loss: 0.1830 - val_mse: 0.1825\n",
            "Epoch 26/100\n",
            "4016/4016 [==============================] - 24s 6ms/step - loss: 0.1830 - mse: 0.1826 - val_loss: 0.1837 - val_mse: 0.1833\n",
            "Epoch 27/100\n",
            "4016/4016 [==============================] - 25s 6ms/step - loss: 0.1830 - mse: 0.1826 - val_loss: 0.1833 - val_mse: 0.1828\n",
            "Epoch 28/100\n",
            "4016/4016 [==============================] - 24s 6ms/step - loss: 0.1830 - mse: 0.1825 - val_loss: 0.1827 - val_mse: 0.1823\n",
            "Epoch 29/100\n",
            "4016/4016 [==============================] - 24s 6ms/step - loss: 0.1830 - mse: 0.1825 - val_loss: 0.1832 - val_mse: 0.1827\n",
            "Epoch 30/100\n",
            "4016/4016 [==============================] - 25s 6ms/step - loss: 0.1830 - mse: 0.1825 - val_loss: 0.1825 - val_mse: 0.1820\n",
            "Epoch 31/100\n",
            "4016/4016 [==============================] - 24s 6ms/step - loss: 0.1829 - mse: 0.1824 - val_loss: 0.1840 - val_mse: 0.1835\n",
            "Epoch 32/100\n",
            "4016/4016 [==============================] - 26s 6ms/step - loss: 0.1828 - mse: 0.1823 - val_loss: 0.1827 - val_mse: 0.1822\n",
            "Epoch 33/100\n",
            "4016/4016 [==============================] - 25s 6ms/step - loss: 0.1827 - mse: 0.1822 - val_loss: 0.1829 - val_mse: 0.1823\n",
            "Epoch 34/100\n",
            "4016/4016 [==============================] - 24s 6ms/step - loss: 0.1827 - mse: 0.1822 - val_loss: 0.1829 - val_mse: 0.1824\n",
            "Epoch 35/100\n",
            "4016/4016 [==============================] - 24s 6ms/step - loss: 0.1827 - mse: 0.1822 - val_loss: 0.1828 - val_mse: 0.1823\n",
            "Epoch 36/100\n",
            "4016/4016 [==============================] - 25s 6ms/step - loss: 0.1827 - mse: 0.1822 - val_loss: 0.1828 - val_mse: 0.1822\n",
            "Epoch 37/100\n",
            "4016/4016 [==============================] - 24s 6ms/step - loss: 0.1826 - mse: 0.1821 - val_loss: 0.1826 - val_mse: 0.1821\n",
            "Epoch 38/100\n",
            "4016/4016 [==============================] - 26s 6ms/step - loss: 0.1826 - mse: 0.1820 - val_loss: 0.1829 - val_mse: 0.1824\n",
            "Epoch 39/100\n",
            "4016/4016 [==============================] - 23s 6ms/step - loss: 0.1826 - mse: 0.1820 - val_loss: 0.1829 - val_mse: 0.1824\n",
            "Epoch 40/100\n",
            "4016/4016 [==============================] - 24s 6ms/step - loss: 0.1825 - mse: 0.1820 - val_loss: 0.1828 - val_mse: 0.1822\n",
            "Epoch 41/100\n",
            "4016/4016 [==============================] - 25s 6ms/step - loss: 0.1825 - mse: 0.1819 - val_loss: 0.1825 - val_mse: 0.1820\n",
            "Epoch 42/100\n",
            "4016/4016 [==============================] - 24s 6ms/step - loss: 0.1825 - mse: 0.1819 - val_loss: 0.1827 - val_mse: 0.1821\n",
            "Epoch 43/100\n",
            "4016/4016 [==============================] - 23s 6ms/step - loss: 0.1824 - mse: 0.1819 - val_loss: 0.1826 - val_mse: 0.1820\n",
            "Epoch 44/100\n",
            "4016/4016 [==============================] - 24s 6ms/step - loss: 0.1824 - mse: 0.1818 - val_loss: 0.1827 - val_mse: 0.1821\n",
            "Epoch 45/100\n",
            "4016/4016 [==============================] - 24s 6ms/step - loss: 0.1824 - mse: 0.1818 - val_loss: 0.1824 - val_mse: 0.1818\n",
            "Epoch 46/100\n",
            "4016/4016 [==============================] - 24s 6ms/step - loss: 0.1823 - mse: 0.1817 - val_loss: 0.1828 - val_mse: 0.1823\n",
            "Epoch 47/100\n",
            "4016/4016 [==============================] - 23s 6ms/step - loss: 0.1823 - mse: 0.1818 - val_loss: 0.1828 - val_mse: 0.1822\n",
            "Epoch 48/100\n",
            "4016/4016 [==============================] - 24s 6ms/step - loss: 0.1823 - mse: 0.1817 - val_loss: 0.1828 - val_mse: 0.1823\n",
            "Epoch 49/100\n",
            "4016/4016 [==============================] - 24s 6ms/step - loss: 0.1823 - mse: 0.1817 - val_loss: 0.1824 - val_mse: 0.1818\n",
            "Epoch 50/100\n",
            "4016/4016 [==============================] - 25s 6ms/step - loss: 0.1823 - mse: 0.1817 - val_loss: 0.1827 - val_mse: 0.1821\n",
            "Epoch 51/100\n",
            "4016/4016 [==============================] - 26s 6ms/step - loss: 0.1822 - mse: 0.1816 - val_loss: 0.1828 - val_mse: 0.1822\n",
            "Epoch 52/100\n",
            "4016/4016 [==============================] - 24s 6ms/step - loss: 0.1822 - mse: 0.1816 - val_loss: 0.1830 - val_mse: 0.1824\n",
            "Epoch 53/100\n",
            "4016/4016 [==============================] - 24s 6ms/step - loss: 0.1822 - mse: 0.1816 - val_loss: 0.1827 - val_mse: 0.1821\n",
            "Epoch 54/100\n",
            "4016/4016 [==============================] - 25s 6ms/step - loss: 0.1822 - mse: 0.1816 - val_loss: 0.1827 - val_mse: 0.1821\n",
            "Epoch 55/100\n",
            "4016/4016 [==============================] - 24s 6ms/step - loss: 0.1822 - mse: 0.1816 - val_loss: 0.1823 - val_mse: 0.1817\n",
            "Epoch 56/100\n",
            "4016/4016 [==============================] - 26s 7ms/step - loss: 0.1821 - mse: 0.1815 - val_loss: 0.1827 - val_mse: 0.1821\n",
            "Epoch 57/100\n",
            "4016/4016 [==============================] - 26s 6ms/step - loss: 0.1821 - mse: 0.1815 - val_loss: 0.1822 - val_mse: 0.1815\n",
            "Epoch 58/100\n",
            "4016/4016 [==============================] - 23s 6ms/step - loss: 0.1821 - mse: 0.1815 - val_loss: 0.1826 - val_mse: 0.1820\n",
            "Epoch 59/100\n",
            "4016/4016 [==============================] - 24s 6ms/step - loss: 0.1821 - mse: 0.1815 - val_loss: 0.1826 - val_mse: 0.1820\n",
            "Epoch 60/100\n",
            "4016/4016 [==============================] - 24s 6ms/step - loss: 0.1821 - mse: 0.1814 - val_loss: 0.1824 - val_mse: 0.1817\n",
            "Epoch 61/100\n",
            "4016/4016 [==============================] - 24s 6ms/step - loss: 0.1821 - mse: 0.1815 - val_loss: 0.1825 - val_mse: 0.1818\n",
            "Epoch 62/100\n",
            "4016/4016 [==============================] - 26s 7ms/step - loss: 0.1821 - mse: 0.1814 - val_loss: 0.1826 - val_mse: 0.1819\n",
            "Epoch 63/100\n",
            "4016/4016 [==============================] - 24s 6ms/step - loss: 0.1820 - mse: 0.1814 - val_loss: 0.1828 - val_mse: 0.1821\n",
            "Epoch 64/100\n",
            "4016/4016 [==============================] - 24s 6ms/step - loss: 0.1820 - mse: 0.1814 - val_loss: 0.1825 - val_mse: 0.1818\n",
            "Epoch 65/100\n",
            "4016/4016 [==============================] - 25s 6ms/step - loss: 0.1820 - mse: 0.1813 - val_loss: 0.1830 - val_mse: 0.1824\n",
            "Epoch 66/100\n",
            "4016/4016 [==============================] - 24s 6ms/step - loss: 0.1820 - mse: 0.1813 - val_loss: 0.1827 - val_mse: 0.1820\n",
            "Epoch 67/100\n",
            "4016/4016 [==============================] - 24s 6ms/step - loss: 0.1820 - mse: 0.1813 - val_loss: 0.1826 - val_mse: 0.1820\n",
            "Epoch 68/100\n",
            "4016/4016 [==============================] - 24s 6ms/step - loss: 0.1820 - mse: 0.1813 - val_loss: 0.1826 - val_mse: 0.1819\n",
            "Epoch 69/100\n",
            "4016/4016 [==============================] - 26s 6ms/step - loss: 0.1820 - mse: 0.1813 - val_loss: 0.1826 - val_mse: 0.1819\n",
            "Epoch 70/100\n",
            "4016/4016 [==============================] - 24s 6ms/step - loss: 0.1820 - mse: 0.1813 - val_loss: 0.1828 - val_mse: 0.1822\n",
            "Epoch 71/100\n",
            "4016/4016 [==============================] - 24s 6ms/step - loss: 0.1820 - mse: 0.1813 - val_loss: 0.1824 - val_mse: 0.1818\n",
            "Epoch 72/100\n",
            "4016/4016 [==============================] - 24s 6ms/step - loss: 0.1819 - mse: 0.1812 - val_loss: 0.1830 - val_mse: 0.1823\n",
            "Epoch 73/100\n",
            "4016/4016 [==============================] - 25s 6ms/step - loss: 0.1819 - mse: 0.1812 - val_loss: 0.1828 - val_mse: 0.1821\n",
            "Epoch 74/100\n",
            "4016/4016 [==============================] - 25s 6ms/step - loss: 0.1819 - mse: 0.1812 - val_loss: 0.1834 - val_mse: 0.1827\n",
            "Epoch 75/100\n",
            "4016/4016 [==============================] - 24s 6ms/step - loss: 0.1819 - mse: 0.1812 - val_loss: 0.1827 - val_mse: 0.1820\n",
            "Epoch 76/100\n",
            "4016/4016 [==============================] - 23s 6ms/step - loss: 0.1819 - mse: 0.1812 - val_loss: 0.1828 - val_mse: 0.1821\n",
            "Epoch 77/100\n",
            "4016/4016 [==============================] - 24s 6ms/step - loss: 0.1818 - mse: 0.1812 - val_loss: 0.1824 - val_mse: 0.1817\n",
            "Epoch 78/100\n",
            "4016/4016 [==============================] - 24s 6ms/step - loss: 0.1819 - mse: 0.1812 - val_loss: 0.1828 - val_mse: 0.1821\n",
            "Epoch 79/100\n",
            "4016/4016 [==============================] - 26s 7ms/step - loss: 0.1818 - mse: 0.1811 - val_loss: 0.1825 - val_mse: 0.1818\n",
            "Epoch 80/100\n",
            "4016/4016 [==============================] - 26s 7ms/step - loss: 0.1818 - mse: 0.1811 - val_loss: 0.1826 - val_mse: 0.1819\n",
            "Epoch 81/100\n",
            "4016/4016 [==============================] - 26s 7ms/step - loss: 0.1818 - mse: 0.1811 - val_loss: 0.1826 - val_mse: 0.1819\n",
            "Epoch 82/100\n",
            "4016/4016 [==============================] - 24s 6ms/step - loss: 0.1818 - mse: 0.1811 - val_loss: 0.1825 - val_mse: 0.1818\n",
            "Epoch 83/100\n",
            "4016/4016 [==============================] - 24s 6ms/step - loss: 0.1817 - mse: 0.1810 - val_loss: 0.1828 - val_mse: 0.1821\n",
            "Epoch 84/100\n",
            "4016/4016 [==============================] - 24s 6ms/step - loss: 0.1817 - mse: 0.1810 - val_loss: 0.1831 - val_mse: 0.1824\n",
            "Epoch 85/100\n",
            "4016/4016 [==============================] - 24s 6ms/step - loss: 0.1817 - mse: 0.1810 - val_loss: 0.1831 - val_mse: 0.1823\n",
            "Epoch 86/100\n",
            "4016/4016 [==============================] - 24s 6ms/step - loss: 0.1817 - mse: 0.1810 - val_loss: 0.1829 - val_mse: 0.1822\n",
            "Epoch 87/100\n",
            "4016/4016 [==============================] - 25s 6ms/step - loss: 0.1818 - mse: 0.1811 - val_loss: 0.1832 - val_mse: 0.1825\n",
            "Epoch 88/100\n",
            "4016/4016 [==============================] - 26s 6ms/step - loss: 0.1817 - mse: 0.1810 - val_loss: 0.1828 - val_mse: 0.1821\n",
            "Epoch 89/100\n",
            "4016/4016 [==============================] - 24s 6ms/step - loss: 0.1817 - mse: 0.1810 - val_loss: 0.1832 - val_mse: 0.1825\n",
            "Epoch 90/100\n",
            "4016/4016 [==============================] - 23s 6ms/step - loss: 0.1818 - mse: 0.1810 - val_loss: 0.1832 - val_mse: 0.1825\n",
            "Epoch 91/100\n",
            "4016/4016 [==============================] - 24s 6ms/step - loss: 0.1817 - mse: 0.1810 - val_loss: 0.1825 - val_mse: 0.1818\n",
            "Epoch 92/100\n",
            "4016/4016 [==============================] - 24s 6ms/step - loss: 0.1817 - mse: 0.1810 - val_loss: 0.1838 - val_mse: 0.1831\n",
            "Epoch 93/100\n",
            "4016/4016 [==============================] - 26s 7ms/step - loss: 0.1818 - mse: 0.1810 - val_loss: 0.1829 - val_mse: 0.1822\n",
            "Epoch 94/100\n",
            "4016/4016 [==============================] - 26s 6ms/step - loss: 0.1817 - mse: 0.1810 - val_loss: 0.1826 - val_mse: 0.1819\n",
            "Epoch 95/100\n",
            "4016/4016 [==============================] - 23s 6ms/step - loss: 0.1817 - mse: 0.1810 - val_loss: 0.1833 - val_mse: 0.1825\n",
            "Epoch 96/100\n",
            "4016/4016 [==============================] - 23s 6ms/step - loss: 0.1817 - mse: 0.1810 - val_loss: 0.1827 - val_mse: 0.1820\n",
            "Epoch 97/100\n",
            "4016/4016 [==============================] - 24s 6ms/step - loss: 0.1817 - mse: 0.1810 - val_loss: 0.1828 - val_mse: 0.1821\n",
            "Epoch 98/100\n",
            "4016/4016 [==============================] - 26s 7ms/step - loss: 0.1817 - mse: 0.1809 - val_loss: 0.1827 - val_mse: 0.1820\n",
            "Epoch 99/100\n",
            "4016/4016 [==============================] - 26s 7ms/step - loss: 0.1817 - mse: 0.1810 - val_loss: 0.1831 - val_mse: 0.1823\n",
            "Epoch 100/100\n",
            "4016/4016 [==============================] - 24s 6ms/step - loss: 0.1816 - mse: 0.1809 - val_loss: 0.1830 - val_mse: 0.1822\n"
          ]
        }
      ]
    },
    {
      "cell_type": "code",
      "source": [
        "# add code to load from checkpoint\n",
        "model.load_weights(checkpoint_filepath)"
      ],
      "metadata": {
        "colab": {
          "base_uri": "https://localhost:8080/"
        },
        "id": "DaBUkL20xaUP",
        "outputId": "b5506ebc-635c-4bb4-d382-696c778d1f6e"
      },
      "execution_count": null,
      "outputs": [
        {
          "output_type": "execute_result",
          "data": {
            "text/plain": [
              "<tensorflow.python.checkpoint.checkpoint.CheckpointLoadStatus at 0x7f39b05d7250>"
            ]
          },
          "metadata": {},
          "execution_count": 14
        }
      ]
    },
    {
      "cell_type": "code",
      "source": [
        "def plot_history(model_history, keys):\n",
        "    m,val_m = keys\n",
        "    plt.plot(model_history.history[m])\n",
        "    plt.plot(model_history.history[val_m])\n",
        "    plt.ylabel(m)\n",
        "    plt.xlabel('epoch')\n",
        "    plt.legend(['train', 'val'], loc='upper left')\n",
        "    plt.show()"
      ],
      "metadata": {
        "id": "UDeHWlFnCJbO"
      },
      "execution_count": null,
      "outputs": []
    },
    {
      "cell_type": "code",
      "source": [
        "plot_history(history,['mse','val_mse'])\n",
        "plot_history(history,['loss','val_loss'])"
      ],
      "metadata": {
        "colab": {
          "base_uri": "https://localhost:8080/",
          "height": 541
        },
        "id": "oQVakJ86CFIn",
        "outputId": "0f4402e7-0548-48c1-eeb6-020c4faeffa9"
      },
      "execution_count": null,
      "outputs": [
        {
          "output_type": "display_data",
          "data": {
            "text/plain": [
              "<Figure size 432x288 with 1 Axes>"
            ],
            "image/png": "[encoded data removed]"
          },
          "metadata": {
            "needs_background": "light"
          }
        },
        {
          "output_type": "display_data",
          "data": {
            "text/plain": [
              "<Figure size 432x288 with 1 Axes>"
            ],
            "image/png": "[encoded data removed]"
          },
          "metadata": {
            "needs_background": "light"
          }
        }
      ]
    },
    {
      "cell_type": "code",
      "source": [
        "am = 10\n",
        "\n",
        "pred = model.predict(x_test[:am]) # to visually check if the answers make sense\n",
        "true = y_test[:am]\n",
        "\n",
        "for i in range(am):\n",
        "  print(pred[i])\n",
        "  print(true[i])\n",
        "  print()"
      ],
      "metadata": {
        "colab": {
          "base_uri": "https://localhost:8080/"
        },
        "id": "ErUmtDK4dmbe",
        "outputId": "39a5248a-3cc4-4b14-d929-107a57a51412"
      },
      "execution_count": null,
      "outputs": [
        {
          "output_type": "stream",
          "name": "stdout",
          "text": [
            "1/1 [==============================] - 0s 217ms/step\n",
            "[0.58616954 0.549057   0.35627127 0.36480534 0.56524175 0.3368327\n",
            " 0.3455446  0.35977286]\n",
            "[0.07856099 0.         0.00243977 0.00243167 1.         0.00243977\n",
            " 0.00243977 0.00284227]\n",
            "\n",
            "[0.26679513 0.2782499  0.6006223  0.2746413  0.52197546 0.27087876\n",
            " 0.5698301  0.28666344]\n",
            "[0.         0.         0.04134181 0.         0.0376204  0.\n",
            " 1.         0.01070037]\n",
            "\n",
            "[0.56904936 0.47071055 0.51067024 0.40435773 0.41371292 0.7154268\n",
            " 0.39660385 0.3905477 ]\n",
            "[0.03807507 0.03786056 1.         0.03771646 0.03829516 0.\n",
            " 0.03771646 0.03771646]\n",
            "\n",
            "[0.6980061  0.4277387  0.41293293 0.3747417  0.40803584 0.38471743\n",
            " 0.7054287  0.38603243]\n",
            "[0. 0. 0. 0. 0. 0. 1. 0.]\n",
            "\n",
            "[0.46160462 0.5420153  0.34529144 0.41295403 0.34421444 0.3196958\n",
            " 0.37357458 0.5679577 ]\n",
            "[1.         0.         0.         0.         0.         0.\n",
            " 0.34896973 0.        ]\n",
            "\n",
            "[0.5382232  0.2967854  0.3324515  0.52755225 0.32801184 0.4471717\n",
            " 0.5714154  0.30462897]\n",
            "[0.         0.         0.         0.47986829 0.         1.\n",
            " 0.92191541 0.        ]\n",
            "\n",
            "[0.6419387  0.3885204  0.43110037 0.3692861  0.39933378 0.4137537\n",
            " 0.71826065 0.6109597 ]\n",
            "[0.22785 0.      0.      0.      0.      1.      1.      0.     ]\n",
            "\n",
            "[0.49304545 0.47505412 0.49271113 0.4720716  0.46772778 0.7736714\n",
            " 0.48266047 0.76859176]\n",
            "[0.         0.01336407 0.         1.         0.         0.08463\n",
            " 0.         0.        ]\n",
            "\n",
            "[0.4500809  0.7078317  0.45535454 0.6457806  0.4134481  0.4219575\n",
            " 0.4163448  0.5512904 ]\n",
            "[0. 1. 0. 0. 0. 0. 0. 0.]\n",
            "\n",
            "[0.36436313 0.54605186 0.41384873 0.381163   0.36386028 0.3771488\n",
            " 0.6350835  0.59593636]\n",
            "[1. 1. 1. 1. 1. 1. 1. 1.]\n",
            "\n"
          ]
        }
      ]
    },
    {
      "cell_type": "code",
      "source": [
        "model.evaluate(x_test, y_test)"
      ],
      "metadata": {
        "colab": {
          "base_uri": "https://localhost:8080/"
        },
        "id": "39dbPaUzCaZr",
        "outputId": "99e1e27e-4802-4d39-dcea-fd5ecd5ff926"
      },
      "execution_count": null,
      "outputs": [
        {
          "output_type": "stream",
          "name": "stdout",
          "text": [
            "1255/1255 [==============================] - 3s 3ms/step - loss: 0.1831 - mse: 0.1824\n"
          ]
        },
        {
          "output_type": "execute_result",
          "data": {
            "text/plain": [
              "[0.18314789235591888, 0.18240442872047424]"
            ]
          },
          "metadata": {},
          "execution_count": 18
        }
      ]
    },
    {
      "cell_type": "code",
      "source": [],
      "metadata": {
        "id": "aSuNPspbj2x4"
      },
      "execution_count": null,
      "outputs": []
    }
  ]
}